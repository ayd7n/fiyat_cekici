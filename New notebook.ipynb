{
 "cells": [
  {
   "cell_type": "code",
   "execution_count": null,
   "metadata": {
    "datalore": {
     "hide_input_from_viewers": false,
     "hide_output_from_viewers": false,
     "node_id": "0ABPiCyzGPH1bVbElkgqHl",
     "type": "CODE"
    }
   },
   "outputs": [],
   "source": [
    "from binance.client import Client\n",
    "import pandas as pd\n",
    "import datetime\n",
    "import urllib3\n",
    "\n",
    "urllib3.disable_warnings(urllib3.exceptions.InsecureRequestWarning)\n",
    "\n",
    "\n",
    "client = Client(\"YtIFHuWoYAO7023tXTM1YBzxJnoYz319NlYBqWRsDZ4UoqnXXodNPLgDDjAx9xy7\",\n",
    "                \"1qDTAoF2LnOgmAcOdZDgdXiPh0Bw0SpbsCsROUgv7AURNdT3X4kSDfigsuyB9bjy\", {\"verify\": False, \"timeout\": 2000000})\n",
    "print(\"Baglanti_Basarili\")"
   ]
  },
  {
   "cell_type": "code",
   "execution_count": 5,
   "metadata": {
    "datalore": {
     "hide_input_from_viewers": false,
     "hide_output_from_viewers": false,
     "node_id": "IvYZ6K4vgZSYzewGg02iHJ",
     "type": "CODE"
    }
   },
   "outputs": [],
   "source": [
    "def Yillik_Deger():\n",
    "    Paralar = [\"BTCUSDT\"]\n",
    "\n",
    "    for para_cifti in Paralar:\n",
    "        Tarihler2 = [[\"1 Feb, 2022\" , \"31 Jan, 2023\"]]\n",
    "\n",
    "        for x in Tarihler2:\n",
    "            klines = client.get_historical_klines(\n",
    "                para_cifti, Client.KLINE_INTERVAL_1MINUTE, x[0], x[1])\n",
    "            df = pd.DataFrame(klines)\n",
    "            df[0] = [datetime.datetime.fromtimestamp(x/1000) for x in df[0]]\n",
    "            df[6] = [datetime.datetime.fromtimestamp(x/1000) for x in df[6]]\n",
    "            df.columns = [\"Açılış zamanı\", \"Açılış Fiyatı\", \"En Yüksek Fiyat\", \"En Düşük Fiyat\", \"Kapanış Fiyatı\", \"Soldaki Paranin Hacmi\",\n",
    "                          \"Kapanış Zamanı\", \"Sagdaki Paranin Hacmi\", \"İşlem sayısı\", \"Taker buy base asset volume\", \"Taker buy quote asset volume\", \"Ignore\"]\n",
    "            df[\"Para_Cifti\"] = para_cifti\n",
    "\n",
    "            df = df[[\"Açılış zamanı\", \"Açılış Fiyatı\", \"Kapanış Fiyatı\", \"En Yüksek Fiyat\", \"En Düşük Fiyat\", \"İşlem sayısı\"]]\n",
    "\n",
    "            df.to_excel(para_cifti + \"_\" + str(x[0]) + \".xlsx\")\n",
    "\n",
    "            print(df.head())\n",
    "            print(para_cifti)"
   ]
  },
  {
   "cell_type": "code",
   "execution_count": 11,
   "metadata": {},
   "outputs": [
    {
     "data": {
      "text/plain": [
       "491019"
      ]
     },
     "execution_count": 11,
     "metadata": {},
     "output_type": "execute_result"
    }
   ],
   "source": [
    "#Excele aktaralım.\n",
    "import pandas as pd\n",
    "import sqlite3\n",
    "\n",
    "df = pd.read_excel(\"XRPUSDT.xlsx\")\n",
    "df[\"Para_Cifti\"] = \"BNBUSDT\"\n",
    "con = sqlite3.connect(\"veritabani.db\")\n",
    "df.to_sql(\"Data\",con ,if_exists=\"append\" , index=False)\n"
   ]
  }
 ],
 "metadata": {
  "datalore": {
   "base_environment": "default",
   "computation_mode": "JUPYTER",
   "package_manager": "pip",
   "packages": [],
   "version": 1
  },
  "kernelspec": {
   "display_name": "Python 3",
   "language": "python",
   "name": "python3"
  },
  "language_info": {
   "codemirror_mode": {
    "name": "ipython",
    "version": 3
   },
   "file_extension": ".py",
   "mimetype": "text/x-python",
   "name": "python",
   "nbconvert_exporter": "python",
   "pygments_lexer": "ipython3",
   "version": "3.10.4"
  },
  "vscode": {
   "interpreter": {
    "hash": "6fc29bd842d1fb328f219576341628e3af768cf5b87007ddc5c1920b9a633aad"
   }
  }
 },
 "nbformat": 4,
 "nbformat_minor": 4
}
